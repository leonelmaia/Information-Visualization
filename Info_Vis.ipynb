{
 "cells": [
  {
   "cell_type": "markdown",
   "metadata": {},
   "source": [
    "## Information Visualizaton\n",
    "\n",
    "This is a notebook that contains the InfoVis project proposed by the Professor Renaud Blanch. Here you can find the dataset used in this project:  https://gricad-gitlab.univ-grenoble-alpes.fr/blanchr/2020-carbon\n",
    "\n",
    "The idea of this project is to develop the visualization proposed in the previous step(Design visualizations) with the objective to answer questions we've made about the datasets. In my case, I proposed to create a dorling cartogram to represent the number of travels for each mode of transport for each house. Also, a colormap should help to identify which house in the largest emitter of Co2. Besides, my visualization should support interactions.\n",
    "    - Action: Mouse pointer pass through a circle representing a house \n",
    "        -> Interaction: Should appear a table with some information about the emissions of Co2 of this house\n",
    "        \n",
    "     - Action: Select a region\n",
    "         -> Interaction: Only the houses that belongs to that region should appears in the map.Also, the colors of each house should change accordingly to the examples of each region.(This help us to identify which one is the largerst Co2 emmitter per region).\n",
    "         \n",
    "      - Action: Select a mode of transport\n",
    "          -> Interacton:All examples should consider only the information about the selected mode of transport. On this interaction, the size of each example may change accordingly to the number of missions of each mode of transport.(This helps us to identify how the mode of transport is distributed across the houses)**\n",
    "          \n",
    "In addition, as the feedback of the professor was that I should think in a way to encode the X and Y axes because they are the most powerful variables that we have. I chose to use a GeoSpatial dataset to create the circles on it. The dataset have spatial information about the Game of Thrones map. On this hand, this approach aims to use the X and Y to identify the position of each house in the Game of Thrones world. Also, we will be able to see the houses that belongs to same region and how the Co2 emissions and the number of missions are distributed among them.\n",
    "\n",
    "To conclude, it important to note that I set a maximum size(100) and a minimum size(10) of each circle in the visualization. The initial idea was to maintain the circles in a proportional way. However, it makes it harder to see the examples and these bounds was an idea to improve the visualization."
   ]
  },
  {
   "cell_type": "markdown",
   "metadata": {},
   "source": [
    "Here is all the libraries used in this notebook.It is important to note that I use the MPLD3 with a few plugins to create the interactions."
   ]
  },
  {
   "cell_type": "code",
   "execution_count": 1,
   "metadata": {},
   "outputs": [],
   "source": [
    "import csv\n",
    "import pandas as pd\n",
    "import os\n",
    "import collections\n",
    "import geopandas \n",
    "import numpy as np\n",
    "from descartes import PolygonPatch\n",
    "from shapely.geometry import LineString, MultiLineString\n",
    "import matplotlib as mpl\n",
    "import matplotlib.pyplot as plt\n",
    "import numpy as np\n",
    "from matplotlib.widgets import Slider\n",
    "import mpld3\n",
    "from mpld3.utils import get_id\n",
    "from mpld3 import plugins\n",
    "from ipywidgets import interact, interactive, fixed, interact_manual\n",
    "import ipywidgets as widgets\n",
    "## The following function is used to present the image in this notebook.However, sometimes it creates a few bugs in\n",
    "##the visualization.\n",
    "mpld3.enable_notebook()\n"
   ]
  },
  {
   "cell_type": "code",
   "execution_count": 2,
   "metadata": {},
   "outputs": [],
   "source": [
    "##Uncomment these lines to install libs that we use in this notebook\n",
    "\n",
    "##pip install mpld3\n",
    "##pip install ipympl "
   ]
  },
  {
   "cell_type": "markdown",
   "metadata": {},
   "source": [
    "## Preparing the datasets\n",
    "First, I import three datasets which were provided by the professor and then I made a few operations with them to create our first dataset which will help us to develop the visualization proposed."
   ]
  },
  {
   "cell_type": "code",
   "execution_count": 3,
   "metadata": {},
   "outputs": [],
   "source": [
    "##Importing the datasets\n",
    "directory = os.listdir('2020-carbon-master/data/')\n",
    "mission_dataset = pd.read_csv('2020-carbon-master/data/' + \"missions.tsv\", sep = \"\\t\")\n",
    "user_dataset = pd.read_csv('2020-carbon-master/data/' + \"users.tsv\", sep = \"\\t\")\n",
    "place_dataset = pd.read_csv('2020-carbon-master/data/' + \"places.tsv\", sep = \"\\t\")\n",
    "\n",
    "##Rename the columns\n",
    "place_dataset = place_dataset.rename(columns={ \"#place_id\": \"place_id\"}   )\n",
    "user_dataset = user_dataset.rename(columns={ \"#user_id\": \"user_id\"}   )\n",
    "mission_dataset = mission_dataset.rename(columns={ \"#mission_id\": \"mission_id\"}   )\n",
    "\n",
    "##Merging the datasets using joins and selecting the columns that will help us\n",
    "merged_dataset = mission_dataset.merge(place_dataset, how = \"inner\" , on = 'place_id')\n",
    "merged_dataset = merged_dataset.merge(user_dataset, how = \"inner\" , on = 'user_id')\n",
    "merged_dataset =  merged_dataset.loc[:,[\"name\",\"user_id\",\"mode\",\"house\",\"region\",\"mission_id\",\"co2\",\"distance\"]]\n",
    "\n",
    "##Adding a the column in the created dataset\n",
    "merged_dataset['real_co2'] = merged_dataset['co2'] * merged_dataset['distance']"
   ]
  },
  {
   "cell_type": "markdown",
   "metadata": {},
   "source": [
    "### Now, we are creating our second dataset\n",
    "While the first dataset was created to build a relationship between our inital tables. Here, the idea is to extract information about our dataset.To begin, I created the Co2_By_House_dataset, which compute the information of CO2 per each house. Then, I create another dataset(number_missions_per_house) which aims to compute the number of missions per house and per transport mode."
   ]
  },
  {
   "cell_type": "code",
   "execution_count": 4,
   "metadata": {},
   "outputs": [],
   "source": [
    "##Using the created dataset to extract more information about the problem\n",
    "Co2_By_House_dataset = merged_dataset.loc[:,[\"mode\",\"house\",\"real_co2\"]]\n",
    "\n",
    "#Here  I am doing a few operarions to aggregate the data and let them in a suitable structure\n",
    "Co2_By_House_dataset = Co2_By_House_dataset.groupby(['house','mode']).sum().reset_index()\n",
    "Co2_By_House_dataset = pd.pivot_table(Co2_By_House_dataset, values=\"real_co2\", columns = [\"mode\"], index=['house'], )\n",
    "Co2_By_House_dataset = Co2_By_House_dataset.fillna(0)\n",
    "\n",
    "## I am creating a new column with the total amount of Co2\n",
    "Co2_By_House_dataset['total'] = (Co2_By_House_dataset['car'] + Co2_By_House_dataset['other'] + Co2_By_House_dataset['plane']\n",
    "                                + Co2_By_House_dataset['public'] + Co2_By_House_dataset['train'])\n",
    "\n",
    "\n",
    "## A new column is beig create to relate each house with the Co2 values. Yet, a column name is being added due to\n",
    "## the pivot table. To use the pivot i had to change my index to the name of the houses.On this hand, I am creating\n",
    "##a column to represent the names and avoinding to use the indexes\n",
    "names = []\n",
    "for i in range (0,39):\n",
    "    names.append(Co2_By_House_dataset.iloc[i].name)\n",
    "    \n",
    "Co2_By_House_dataset['name'] = names"
   ]
  },
  {
   "cell_type": "markdown",
   "metadata": {},
   "source": [
    "### Creating the Third Dataset\n",
    "The Idea here is to create another dataset. On this case, we need to have a dataset able to relate the houses with the number of missions. Yet, I am ordering the list of houses, putting the best known houses first and trying to keep the visualization as \"real\" as possible."
   ]
  },
  {
   "cell_type": "code",
   "execution_count": 5,
   "metadata": {},
   "outputs": [],
   "source": [
    "## A function to help the user to sort the list of houses\n",
    "def put_house_first(name, list_of_houses):\n",
    "    list_of_houses.remove(name)\n",
    "    list_of_houses.insert(0,name)\n",
    "    return list_of_houses\n",
    "\n",
    "## Creating another dataset. This one is based on the number of missions but not the amount of Co2\n",
    "number_missions_per_house = merged_dataset.loc[:,[\"mode\",\"house\",\"region\"]]\n",
    "\n",
    "df = pd.DataFrame( columns = ['house','car','train','plane','public','other'] ).fillna(0)\n",
    "list_housesCO2 = merged_dataset['house'].unique().tolist()\n",
    "\n",
    "## Organizing the list of houses to put the best known first.\n",
    "put_house_first(\"Arryn\",list_housesCO2)\n",
    "put_house_first(\"Lannister\",list_housesCO2)\n",
    "put_house_first(\"Tyrell\",list_housesCO2)\n",
    "put_house_first(\"Martell\",list_housesCO2)\n",
    "put_house_first(\"Stark\",list_housesCO2)\n",
    "\n",
    "for house in list_housesCO2:\n",
    "    car_missions = 0\n",
    "    plane_missions = 0\n",
    "    train_missions = 0\n",
    "    other_missions = 0\n",
    "    public_missions = 0\n",
    "    for row in  number_missions_per_house.iterrows() :\n",
    "        if house == row[1][1]:\n",
    "            if row[1][0] == \"car\":\n",
    "                car_missions =  car_missions +1\n",
    "            if row[1][0] == \"plane\":\n",
    "                plane_missions =  plane_missions +1\n",
    "            if row[1][0] == \"train\":\n",
    "                train_missions =  train_missions +1\n",
    "            if row[1][0] == \"other\":\n",
    "                other_missions =  other_missions +1\n",
    "            if row[1][0] == \"public\":\n",
    "                public_missions =  public_missions +1\n",
    "    \n",
    "    list_var = {'house': house,'car':car_missions,'train':train_missions,'plane':plane_missions,\n",
    "                'public':public_missions,'other':other_missions} \n",
    "    list_df = pd.DataFrame(data=list_var, index=[0])\n",
    "    df = df.append(list_var,ignore_index=True)  \n",
    "number_missions_per_house = df\n",
    "\n",
    "##Creating another column to compute the total number of mission per house\n",
    "number_missions_per_house['total'] = (number_missions_per_house['car'] + number_missions_per_house['train'] + number_missions_per_house['plane']\n",
    "                                    + number_missions_per_house['public'] + number_missions_per_house['other'])\n",
    "\n",
    "\n",
    "#print(merged_dataset)\n",
    "#print(Co2_By_House_dataset.iloc[0])\n",
    "#print(Co2_By_House_dataset)"
   ]
  },
  {
   "cell_type": "markdown",
   "metadata": {},
   "source": [
    "## Developing the Visualization\n",
    "Here, I'll start by importing the geospatial dataset about the map of game of thrones (That is the reason why I had to order the list of houses, to put the houses in their specific place) and also creating a new dataset with cities and castles available in the data.\n",
    "\n",
    "** It is important to note that i am not a big fan of Game of Thrones. On this hand, I just put a few houses in their respective places while the others I chose to randomly select a place for them(I did this because there is a lot of houses that I never heard about in our data set). The places were choses between the cities and castles availables in this geospatial dataset."
   ]
  },
  {
   "cell_type": "code",
   "execution_count": 6,
   "metadata": {},
   "outputs": [],
   "source": [
    "## Importing the geospatial Dataset\n",
    "got_continents = geopandas.GeoDataFrame.from_file('Westeros_Essos_shp/GoTRelease/continents.shp')\n",
    "got_rivers = geopandas.GeoDataFrame.from_file('Westeros_Essos_shp/GoTRelease/rivers.shp')\n",
    "got_locations = geopandas.GeoDataFrame.from_file('Westeros_Essos_shp/GoTRelease/locations.shp')\n",
    "got_cities = got_locations.loc[got_locations['type']=='City' ]\n",
    "got_islands = geopandas.GeoDataFrame.from_file('Westeros_Essos_shp/GoTRelease/islands.shp')\n",
    "\n",
    "\n",
    "xlims = np.array(got_continents.bounds[['minx', 'maxx']]).min(), np.array(got_continents.bounds[['minx', 'maxx']]).max()\n",
    "ylims = np.array(got_continents.bounds[['miny', 'maxy']]).min(), np.array(got_continents.bounds[['miny', 'maxy']]).max()\n",
    "\n",
    "##New dataframe with cities and castles\n",
    "got_cities_and_castles = got_cities.append( got_locations.loc[got_locations['type']=='Castle'])"
   ]
  },
  {
   "cell_type": "markdown",
   "metadata": {},
   "source": [
    "Here we are creating our main dataset. The idea here is to keep the order of places and houses. Then, I select only 39 places (The same number of houses in our dataset) to create a relation between  them and plot it in the GoT map"
   ]
  },
  {
   "cell_type": "code",
   "execution_count": 7,
   "metadata": {},
   "outputs": [],
   "source": [
    "new_df = got_cities_and_castles.loc[got_cities_and_castles['name']=='Winterfell' ]\n",
    "new_df = new_df.append(got_cities_and_castles.loc[got_cities_and_castles['name']== \"Sunspear\" ])\n",
    "new_df = new_df.append(got_cities_and_castles.loc[got_cities_and_castles['name']== \"Highgarden\" ])\n",
    "new_df = new_df.append(got_cities_and_castles.loc[got_cities_and_castles['name']== \"Storm's End\" ])\n",
    "new_df = new_df.append(got_cities_and_castles.loc[got_cities_and_castles['name']== \"The Eyrie\" ])\n",
    "new_df = new_df.append(got_cities_and_castles.loc[got_cities_and_castles['type']== \"City\" ])\n",
    "new_df = new_df.append(got_cities_and_castles.loc[got_cities_and_castles['name']== \"Dragonstone\" ])\n",
    "new_df = new_df.append(got_cities_and_castles.loc[got_cities_and_castles['name']== \"Pyke\" ])\n",
    "new_df = new_df.append(got_cities_and_castles.loc[got_cities_and_castles['name']== \"Castle Black\" ])\n",
    "new_df = new_df.append(got_cities_and_castles.loc[got_cities_and_castles['name']== \"Riverrun\" ])\n",
    "new_df = new_df.append(got_locations.loc[got_locations['type']== \"Other\" ])\n",
    "new_df = new_df.iloc[:-60,:]\n",
    "new_df.index = np.arange(len(new_df))\n",
    "\n",
    "##Adding the Co2 emission for each house and the name of the houses. On this point all of them are in their\n",
    "##respetive place.For instance: Winterfell => Stark\n",
    "co2 = []\n",
    "new_df['houses'] = list_housesCO2\n",
    "for house in list_housesCO2:\n",
    "    co2.append(merged_dataset['real_co2'][merged_dataset['house'] == house ].sum())\n",
    "new_df['real_CO2'] = co2\n",
    "\n",
    "##Adding a column region for each house of the map. The region will be the one proposed by the first dataset.\n",
    "##On this hand, may be a few inconsistences about the places.(Two houses of the same region can be far in the map\n",
    "##due to the places of them being chosen in a randomly)\n",
    "list_house_regions = []\n",
    "for house in new_df.iloc[:,6] :\n",
    "        for row in merged_dataset.iterrows() :\n",
    "            if house == row[1][3] :\n",
    "                list_house_regions.append(row[1][4])\n",
    "                break\n",
    "new_df['region'] = list_house_regions"
   ]
  },
  {
   "cell_type": "markdown",
   "metadata": {},
   "source": [
    "Here we are still improving our dataset with pertinent information. We are adding the Co2 emissions by house and by mode of transport."
   ]
  },
  {
   "cell_type": "code",
   "execution_count": 8,
   "metadata": {},
   "outputs": [],
   "source": [
    "df = pd.DataFrame( columns = ['name','car','train','plane','public','other','total'] )\n",
    "\n",
    "for house in list_housesCO2:\n",
    "    for i in range (0,39) :\n",
    "        if  Co2_By_House_dataset.iloc[i].name == house:\n",
    "            df = df.append(Co2_By_House_dataset.iloc[i])\n",
    "               \n",
    "df = df.reset_index()\n",
    "df = df.drop(columns={\"index\"})\n",
    "\n",
    "new_df['car'] = df.iloc[:,[1]]\n",
    "new_df['train'] = df.iloc[:,[2]]\n",
    "new_df['plane'] = df.iloc[:,[3]]\n",
    "new_df['public'] = df.iloc[:,[4]]\n",
    "new_df['other'] = df.iloc[:,[5]]\n",
    "\n",
    "##Also, we are adding the number of missions of each house with each mode of transport\n",
    "new_df['car_missions'] = number_missions_per_house.iloc[:,[1]]\n",
    "new_df['train_missions'] = number_missions_per_house.iloc[:,[2]]\n",
    "new_df['plane_missions'] = number_missions_per_house.iloc[:,[3]]\n",
    "new_df['public_missions'] = number_missions_per_house.iloc[:,[4]]\n",
    "new_df['other_missions'] = number_missions_per_house.iloc[:,[5]]\n",
    "new_df['total_missions'] = number_missions_per_house.iloc[:,[6]]"
   ]
  },
  {
   "cell_type": "markdown",
   "metadata": {},
   "source": [
    "### Adding a CSS Style to show our data\n",
    "Adding a style to the information that will appear with our first interaction(Mouse pointer). Without this CSS style would be hard to read the information due to the name of the places that I chose to put in the map."
   ]
  },
  {
   "cell_type": "code",
   "execution_count": 9,
   "metadata": {},
   "outputs": [],
   "source": [
    "css = \"\"\"\n",
    "table\n",
    "{\n",
    "  border-collapse: collapse;\n",
    "}\n",
    "th\n",
    "{\n",
    "  color: #ffffff;\n",
    "  background-color: #000000;\n",
    "}\n",
    "td\n",
    "{\n",
    "  background-color: #cccccc;\n",
    "}\n",
    "table, th, td\n",
    "{\n",
    "  font-family:Arial, Helvetica, sans-serif;\n",
    "  border: 1px solid black;\n",
    "  text-align: right;\n",
    "}\n",
    "\"\"\"\n"
   ]
  },
  {
   "cell_type": "markdown",
   "metadata": {},
   "source": [
    "### Functions\n",
    "On these following cells I am defining a few functions that will help me to create my visualization. "
   ]
  },
  {
   "cell_type": "code",
   "execution_count": 10,
   "metadata": {},
   "outputs": [],
   "source": [
    "##Defining the function that will calculate the size of each circle\n",
    "def proportional_size (bigger_value, actual_value, max_size):\n",
    "        min_size = 10\n",
    "        actual_size  = (max_size*actual_value)/(bigger_value+1)\n",
    "        if actual_size < min_size :\n",
    "            return min_size\n",
    "        else:\n",
    "            return actual_size\n"
   ]
  },
  {
   "cell_type": "code",
   "execution_count": 11,
   "metadata": {},
   "outputs": [],
   "source": [
    "## The function that will be called each interaction to update the circles with respect \n",
    "## to the selected mode of transport\n",
    "def define_size(dataset,column = 'real_CO2'):\n",
    "    size_circle = [] \n",
    "    if column != \"real_CO2\":\n",
    "        column = column + \"_missions\" \n",
    "    if column == \"real_CO2\":\n",
    "        column = 'total_missions'\n",
    "        \n",
    "    for house in dataset.iterrows() :\n",
    "        size_circle.append(proportional_size (dataset.loc[ :, [column][0]].max() , house[1][column] , 100))\n",
    "        \n",
    "    dataset['size'] = size_circle"
   ]
  },
  {
   "cell_type": "code",
   "execution_count": 12,
   "metadata": {},
   "outputs": [],
   "source": [
    "## A function to update the map each that a interaction occurs.The idea of this functions is to redefine the circles\n",
    "## and change them with respect to the region and mode of transport selected\n",
    "def interaction_handle(fig,ax,dataset, transport,region,labels,label_reg) :\n",
    "\n",
    "\n",
    "    plot_df = dataset\n",
    "    transport = transport.lower()\n",
    "    if transport == 'all':\n",
    "            transport = 'real_CO2'\n",
    "    if region != 'All' :\n",
    "        plot_df = dataset.loc[dataset['region'] == region]\n",
    "        \n",
    "    list_houses = plot_df['houses'].unique().tolist()\n",
    "    labels = labels.loc[ labels['name'].isin(list_houses) ]\n",
    "    label_reg = label_reg.loc[ label_reg['house'].isin(list_houses) ]\n",
    "    label_reg = label_reg.rename( columns = {'house': \"name\"})\n",
    "    subtitle = []\n",
    "    for i in range(len(labels)):\n",
    "        label = labels.iloc[[i], :].T\n",
    "        labelreg = label_reg.iloc[[i], :].T\n",
    "        label.columns = ['House {0}'.format(i)]\n",
    "        labelreg.columns = ['# Missions {0}'.format(i)]\n",
    "        label = pd.concat([label,labelreg], axis=1)\n",
    "        label = label.fillna('')\n",
    "        subtitle.append(str(label.to_html()))\n",
    "        \n",
    "    define_size(plot_df,transport)\n",
    "    point = ax.scatter(plot_df.geometry.x, plot_df.geometry.y, c= -plot_df.iloc[:][transport],  \n",
    "                        s=plot_df.iloc[:]['size']*20, alpha=1,cmap = plt.cm.gist_heat)\n",
    "\n",
    "    tooltip = mpld3.plugins.PointHTMLTooltip(point, subtitle,voffset=10, hoffset=10, css=css)\n",
    "    mpld3.plugins.connect(fig, tooltip)\n",
    "\n",
    "\n",
    "\n",
    "        "
   ]
  },
  {
   "cell_type": "code",
   "execution_count": 13,
   "metadata": {},
   "outputs": [],
   "source": [
    "##Function to create the continents,islands,cities,rivers and the circles representing the houses.\n",
    "def show_map (Regions,Transports):\n",
    "    fig, ax = plt.subplots(1, figsize = (16, 10))\n",
    "    fig.subplots_adjust(left=0, bottom=0)\n",
    "    for i, geo in enumerate(got_continents.geometry): # Adding continents\n",
    "        ax.add_patch(PolygonPatch(geo, color='burlywood', ec='gray', lw=1))\n",
    "        ax.text(geo.centroid.xy[0][0], geo.centroid.xy[1][0], s=got_continents.iloc[i]['name'], fontsize=10, color='k')\n",
    "    for geo in got_islands.geometry: # Adding islands\n",
    "        ax.add_patch(PolygonPatch(geo, color='burlywood', ec='k', lw=1))\n",
    "    for i, geo in enumerate(new_df.geometry): # Adding cities\n",
    "        if (new_df.loc[i]['type'] == 'Castle'):\n",
    "            ax.text(geo.xy[0][0]+1, geo.xy[1][0]+1, s=new_df.iloc[i]['name'],fontsize=5, color='k')\n",
    "            ax.plot(geo.xy[0], geo.xy[1], marker='*', color='maroon')\n",
    "        if (new_df.loc[i]['type'] == 'City'):   \n",
    "            ax.text(geo.xy[0][0]+1, geo.xy[1][0]+1, s=new_df.iloc[i]['name'],fontsize=5, color='k')\n",
    "            ax.plot(geo.xy[0], geo.xy[1], marker='.', color='maroon')\n",
    "        if (new_df.loc[i]['type'] == 'Other'):   \n",
    "            ax.plot(geo.xy[0], geo.xy[1], marker='+', color='maroon')\n",
    "            #ax.text(geo.xy[0][0]+1, geo.xy[1][0]+1, s=new_df.iloc[i]['name'],fontsize=5, color='k')\n",
    "    for geo in got_rivers.geometry: # Add rivers\n",
    "        if isinstance(geo, LineString): #Rivers are defined as a single line\n",
    "            ax.plot(geo.xy[0], geo.xy[1], color='cornflowerblue')\n",
    "        elif isinstance(geo, MultiLineString):\n",
    "            for j, lj in enumerate(geo): # Some other rivers\n",
    "                ax.plot(lj.xy[0], lj.xy[1], color='cornflowerblue')\n",
    "\n",
    "    interaction_handle(fig,ax,new_df,Transports,Regions,df,number_missions_per_house.iloc[:,[0,1,2,3,4,5,6]])"
   ]
  },
  {
   "cell_type": "markdown",
   "metadata": {},
   "source": [
    "# Finally, our map!!\n",
    "\n",
    "In our map we can answer the 2 questions that I proposed in the previous step:\n",
    "\n",
    "       -> How the mode of transport is distributed across the houses?\n",
    "       -> Which house emits more Co2 ?\n",
    "       \n",
    "Firstly, we can get information by analyzing the size of each circle. As each circle of the map represents a house, the bigger a circle is, more missions it have done. Yet, if you want to analyze the number of missions of each mode of transport for each house, you can select the mode and then the size of the circles(representing the number of missions of each house) will change accordingly to the selected mode. Equally important, if you chose to analyze by region, you'll see that the size of the circles will also change accordingly to the houses that belongs to each region.\n",
    "\n",
    "\n",
    "In addition, you can also analyze the houses based on the Co2 Emissions( which is represented by the color of each circle). When you change the transport mode, you'll see that the colors will change. This happens because there is an interaction that shows the emissions per each mode. So, you can also analyze and compare the emissions of each house. The same occurs when you change the region (The visualization adapts to the examples that are in the map), so you can do a better comparison between the selected houses.\n",
    "\n",
    "On this hand, the first question is answered in two ways. The first one is by seeing the labels when you passing the pointer of the mouse over each house( analyzing the distribution of the modes of transport used by an specific house) and the second way is by comparing the size of the circles ( Which is a comparison between houses). To answer the second question we need to use the circle colors. In fact, we encode the Co2 emissions into a color scale. In other words, as darker a circle is, more this house emits Co2. Besides, you can also compare the emissions of Co2 for each mode of transport for an specific house through the mouse pointer interaction.\n",
    "\n",
    "Finally, it is important to note that there is a little difference between the proposed visualization and its real implementation. This visualization does not have sliders. Actually, I thought better and I realize that they were unnecessary as long as I was not using a range of numbers. On this hand, I chose a dropdown menu."
   ]
  },
  {
   "cell_type": "code",
   "execution_count": 14,
   "metadata": {},
   "outputs": [
    {
     "data": {
      "application/vnd.jupyter.widget-view+json": {
       "model_id": "6faa87b1789e4897866edf228d730e7a",
       "version_major": 2,
       "version_minor": 0
      },
      "text/plain": [
       "interactive(children=(Dropdown(description='Regions', options=('All', 'North', 'Dorne', 'Reach', 'Riverlands',…"
      ]
     },
     "metadata": {},
     "output_type": "display_data"
    },
    {
     "data": {
      "text/plain": [
       "<function __main__.show_map(Regions, Transports)>"
      ]
     },
     "execution_count": 14,
     "metadata": {},
     "output_type": "execute_result"
    }
   ],
   "source": [
    "import warnings\n",
    "warnings.filterwarnings('ignore')      \n",
    "##Function of MPLD3 library to show the visualization and to handle the interactions\n",
    "interact(show_map, Transports=[('All'), ('Car'), ('Train'),('Plane'),('Public'),('Other')],\n",
    "         Regions=[('All'),('North'), ('Dorne'), ('Reach'),('Riverlands'),('Westerlands'),('Vale'),('Crownlands')])"
   ]
  },
  {
   "cell_type": "code",
   "execution_count": null,
   "metadata": {},
   "outputs": [],
   "source": []
  },
  {
   "cell_type": "code",
   "execution_count": null,
   "metadata": {},
   "outputs": [],
   "source": []
  },
  {
   "cell_type": "code",
   "execution_count": null,
   "metadata": {},
   "outputs": [],
   "source": []
  },
  {
   "cell_type": "code",
   "execution_count": null,
   "metadata": {},
   "outputs": [],
   "source": []
  },
  {
   "cell_type": "code",
   "execution_count": null,
   "metadata": {},
   "outputs": [],
   "source": []
  },
  {
   "cell_type": "code",
   "execution_count": null,
   "metadata": {},
   "outputs": [],
   "source": []
  },
  {
   "cell_type": "code",
   "execution_count": null,
   "metadata": {},
   "outputs": [],
   "source": []
  },
  {
   "cell_type": "code",
   "execution_count": null,
   "metadata": {},
   "outputs": [],
   "source": []
  },
  {
   "cell_type": "code",
   "execution_count": null,
   "metadata": {},
   "outputs": [],
   "source": []
  }
 ],
 "metadata": {
  "kernelspec": {
   "display_name": "Python 3",
   "language": "python",
   "name": "python3"
  },
  "language_info": {
   "codemirror_mode": {
    "name": "ipython",
    "version": 3
   },
   "file_extension": ".py",
   "mimetype": "text/x-python",
   "name": "python",
   "nbconvert_exporter": "python",
   "pygments_lexer": "ipython3",
   "version": "3.6.9"
  }
 },
 "nbformat": 4,
 "nbformat_minor": 2
}
